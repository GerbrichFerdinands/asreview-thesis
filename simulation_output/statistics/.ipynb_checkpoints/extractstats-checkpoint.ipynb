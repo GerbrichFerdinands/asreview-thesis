{
 "cells": [
  {
   "cell_type": "code",
   "execution_count": 1,
   "metadata": {},
   "outputs": [],
   "source": [
    "import json\n",
    "import numpy as np\n",
    "from asreviewcontrib.statistics import StateStatistics"
   ]
  },
  {
   "cell_type": "code",
   "execution_count": 2,
   "metadata": {},
   "outputs": [],
   "source": [
    "state_dict = StateStatistics.from_path(\"../simoutput/bctw/ace/\").to_dict()\n"
   ]
  },
  {
   "cell_type": "code",
   "execution_count": 3,
   "metadata": {},
   "outputs": [],
   "source": [
    "state_dict[\"settings\"] = vars(state_dict[\"settings\"])\n"
   ]
  },
  {
   "cell_type": "code",
   "execution_count": null,
   "metadata": {},
   "outputs": [],
   "source": []
  },
  {
   "cell_type": "code",
   "execution_count": 4,
   "metadata": {},
   "outputs": [
    {
     "name": "stdout",
     "output_type": "stream",
     "text": [
      "n_queries <class 'list'>\n",
      "n_states <class 'int'>\n",
      "n_papers <class 'int'>\n",
      "n_included <class 'numpy.int64'>\n",
      "n_excluded <class 'numpy.int64'>\n"
     ]
    }
   ],
   "source": [
    "# print types in \"general\"\n",
    "for key, value in state_dict[\"general\"].items():\n",
    "    print(key, type(value))\n",
    "    \n"
   ]
  },
  {
   "cell_type": "code",
   "execution_count": 5,
   "metadata": {},
   "outputs": [],
   "source": [
    "# define function to convert numpy int64 to integers\n",
    "def convert_int64(mydict): \n",
    "    for key, value in mydict.items():\n",
    "        if isinstance(value, np.int64):\n",
    "            #print(key, value)\n",
    "            mydict[key] = int(value)\n",
    "        elif isinstance(value, dict):\n",
    "            convert_int64(value)"
   ]
  },
  {
   "cell_type": "code",
   "execution_count": 6,
   "metadata": {},
   "outputs": [],
   "source": [
    "convert_int64(state_dict)"
   ]
  },
  {
   "cell_type": "code",
   "execution_count": null,
   "metadata": {},
   "outputs": [],
   "source": [
    "\n",
    "    "
   ]
  },
  {
   "cell_type": "code",
   "execution_count": 7,
   "metadata": {},
   "outputs": [],
   "source": [
    "with open(\"testoutput.json\", \"w\") as f:\n",
    "    json.dump(state_dict, f)"
   ]
  },
  {
   "cell_type": "code",
   "execution_count": null,
   "metadata": {},
   "outputs": [],
   "source": []
  }
 ],
 "metadata": {
  "kernelspec": {
   "display_name": "Python 3",
   "language": "python",
   "name": "python3"
  },
  "language_info": {
   "codemirror_mode": {
    "name": "ipython",
    "version": 3
   },
   "file_extension": ".py",
   "mimetype": "text/x-python",
   "name": "python",
   "nbconvert_exporter": "python",
   "pygments_lexer": "ipython3",
   "version": "3.7.4"
  }
 },
 "nbformat": 4,
 "nbformat_minor": 2
}
