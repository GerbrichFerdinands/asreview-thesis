{
 "cells": [
  {
   "cell_type": "code",
   "execution_count": 1,
   "metadata": {},
   "outputs": [],
   "source": [
    "import json\n",
    "import numpy as np\n",
    "from asreviewcontrib.statistics import StateStatistics\n"
   ]
  },
  {
   "cell_type": "code",
   "execution_count": null,
   "metadata": {},
   "outputs": [],
   "source": [
    "import argparse\n",
    "parser = argparse.ArgumentParser(description=\"testing argparser\")\n",
    "parser.add_argument(\"--input\", type=dir_path)\n",
    "parser.add_argument(\"--output\", type=dir_path)\n",
    "\n",
    "args=parser.parse_args()\n",
    "\n",
    "# state\n",
    "state_dict = StateStatistics.from_path(args.input, wss_vals=[95], rrf_vals=[10]).to_dict()"
   ]
  },
  {
   "cell_type": "code",
   "execution_count": 11,
   "metadata": {},
   "outputs": [],
   "source": [
    "# state \n",
    "#state_dict = StateStatistics.from_path(\"simoutput/bctw/ace/\", wss_vals=[95], rrf_vals=[10]).to_dict()\n",
    "state_dict = StateStatistics.from_path(\"overruling/\", wss_vals=[95], rrf_vals=[10]).to_dict()"
   ]
  },
  {
   "cell_type": "code",
   "execution_count": 12,
   "metadata": {},
   "outputs": [
    {
     "data": {
      "text/plain": [
       "{'settings': {'mode': 'simulate',\n",
       "  'model': 'nb',\n",
       "  'query_strategy': 'max',\n",
       "  'balance_strategy': 'double',\n",
       "  'feature_extraction': 'tfidf',\n",
       "  'n_instances': 20,\n",
       "  'n_queries': None,\n",
       "  'n_papers': None,\n",
       "  'n_prior_included': None,\n",
       "  'n_prior_excluded': None,\n",
       "  'abstract_only': False,\n",
       "  'as_data': None,\n",
       "  'model_param': {'alpha': 58.43187491627967},\n",
       "  'query_param': {'random_tie_break': False},\n",
       "  'balance_param': {'a': 3.5682886940965943,\n",
       "   'alpha': 0.6032703326986131,\n",
       "   'b': 0.9346049177056381,\n",
       "   'beta': 1.0},\n",
       "  'feature_param': {'ngram_max': 2, 'split_ta': 0},\n",
       "  'data_name': 'ptsd'},\n",
       " 'wss': {95: 93.39990218892586},\n",
       " 'rrf': {10: 100.0},\n",
       " 'general': {'n_queries': [253],\n",
       "  'n_states': 1,\n",
       "  'n_papers': 5031,\n",
       "  'n_included': 38,\n",
       "  'n_excluded': 4993}}"
      ]
     },
     "execution_count": 12,
     "metadata": {},
     "output_type": "execute_result"
    }
   ],
   "source": [
    "state_dict[\"settings\"] = vars(state_dict[\"settings\"])\n",
    "\n",
    "state_dict"
   ]
  },
  {
   "cell_type": "code",
   "execution_count": 4,
   "metadata": {},
   "outputs": [
    {
     "data": {
      "text/plain": [
       "{'settings': {'mode': 'simulate',\n",
       "  'model': 'nb',\n",
       "  'query_strategy': 'max',\n",
       "  'balance_strategy': 'double',\n",
       "  'feature_extraction': 'tfidf',\n",
       "  'n_instances': 20,\n",
       "  'n_queries': None,\n",
       "  'n_papers': None,\n",
       "  'n_prior_included': None,\n",
       "  'n_prior_excluded': None,\n",
       "  'abstract_only': False,\n",
       "  'as_data': None,\n",
       "  'model_param': {'alpha': 58.43187491627967},\n",
       "  'query_param': {'random_tie_break': False},\n",
       "  'balance_param': {'a': 3.5682886940965943,\n",
       "   'alpha': 0.6032703326986131,\n",
       "   'b': 0.9346049177056381,\n",
       "   'beta': 1.0},\n",
       "  'feature_param': {'ngram_max': 2, 'split_ta': 0},\n",
       "  'data_name': 'ptsd'},\n",
       " 'wss': {95: 93.39990218892586},\n",
       " 'rrf': {10: 100.0},\n",
       " 'general': {'n_queries': [253],\n",
       "  'n_states': 1,\n",
       "  'n_papers': 5031,\n",
       "  'n_included': 38,\n",
       "  'n_excluded': 4993}}"
      ]
     },
     "execution_count": 4,
     "metadata": {},
     "output_type": "execute_result"
    }
   ],
   "source": [
    "#state_dict[\"settings\"]\n",
    "\n",
    "#state_dict[\"wss\"] \n",
    "\n",
    "state_dict\n",
    "\n",
    "#StateStatistics.wss()"
   ]
  },
  {
   "cell_type": "code",
   "execution_count": 5,
   "metadata": {},
   "outputs": [
    {
     "name": "stdout",
     "output_type": "stream",
     "text": [
      "n_queries <class 'list'>\n",
      "n_states <class 'int'>\n",
      "n_papers <class 'int'>\n",
      "n_included <class 'numpy.int64'>\n",
      "n_excluded <class 'numpy.int64'>\n"
     ]
    }
   ],
   "source": [
    "# print types in \"general\"\n",
    "for key, value in state_dict[\"general\"].items():\n",
    "    print(key, type(value))\n",
    "    \n"
   ]
  },
  {
   "cell_type": "code",
   "execution_count": 6,
   "metadata": {},
   "outputs": [],
   "source": [
    "# define function to convert numpy int64 to integers\n",
    "def convert_int64(mydict): \n",
    "    for key, value in mydict.items():\n",
    "        if isinstance(value, np.int64):\n",
    "            #print(key, value)\n",
    "            mydict[key] = int(value)\n",
    "        elif isinstance(value, dict):\n",
    "            convert_int64(value)"
   ]
  },
  {
   "cell_type": "code",
   "execution_count": 7,
   "metadata": {},
   "outputs": [],
   "source": [
    "convert_int64(state_dict)"
   ]
  },
  {
   "cell_type": "code",
   "execution_count": null,
   "metadata": {},
   "outputs": [],
   "source": []
  },
  {
   "cell_type": "code",
   "execution_count": 8,
   "metadata": {},
   "outputs": [],
   "source": [
    "with open(\"testoutput.json\", \"w\") as f:\n",
    "    json.dump(state_dict, f)"
   ]
  },
  {
   "cell_type": "code",
   "execution_count": null,
   "metadata": {},
   "outputs": [],
   "source": []
  }
 ],
 "metadata": {
  "kernelspec": {
   "display_name": "Python 3",
   "language": "python",
   "name": "python3"
  },
  "language_info": {
   "codemirror_mode": {
    "name": "ipython",
    "version": 3
   },
   "file_extension": ".py",
   "mimetype": "text/x-python",
   "name": "python",
   "nbconvert_exporter": "python",
   "pygments_lexer": "ipython3",
   "version": "3.7.4"
  }
 },
 "nbformat": 4,
 "nbformat_minor": 2
}
