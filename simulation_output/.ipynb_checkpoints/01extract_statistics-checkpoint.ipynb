{
 "cells": [
  {
   "cell_type": "code",
   "execution_count": 1,
   "metadata": {},
   "outputs": [],
   "source": [
    "import json\n",
    "import numpy as np\n",
    "from asreviewcontrib.statistics import StateStatistics"
   ]
  },
  {
   "cell_type": "code",
   "execution_count": 2,
   "metadata": {},
   "outputs": [],
   "source": [
    "# state \n",
    "state_dict = StateStatistics.from_path(\"simoutput/bctw/ace/\").to_dict()\n",
    "\n"
   ]
  },
  {
   "cell_type": "code",
   "execution_count": 7,
   "metadata": {},
   "outputs": [
    {
     "ename": "TypeError",
     "evalue": "vars() argument must have __dict__ attribute",
     "output_type": "error",
     "traceback": [
      "\u001b[0;31m---------------------------------------------------------------------------\u001b[0m",
      "\u001b[0;31mTypeError\u001b[0m                                 Traceback (most recent call last)",
      "\u001b[0;32m<ipython-input-7-a1a4e54e7a91>\u001b[0m in \u001b[0;36m<module>\u001b[0;34m\u001b[0m\n\u001b[0;32m----> 1\u001b[0;31m \u001b[0mstate_dict\u001b[0m\u001b[0;34m[\u001b[0m\u001b[0;34m\"settings\"\u001b[0m\u001b[0;34m]\u001b[0m \u001b[0;34m=\u001b[0m \u001b[0mvars\u001b[0m\u001b[0;34m(\u001b[0m\u001b[0mstate_dict\u001b[0m\u001b[0;34m[\u001b[0m\u001b[0;34m\"settings\"\u001b[0m\u001b[0;34m]\u001b[0m\u001b[0;34m)\u001b[0m\u001b[0;34m\u001b[0m\u001b[0;34m\u001b[0m\u001b[0m\n\u001b[0m\u001b[1;32m      2\u001b[0m \u001b[0mstate_dict\u001b[0m\u001b[0;34m[\u001b[0m\u001b[0;34m\"wss\"\u001b[0m\u001b[0;34m]\u001b[0m \u001b[0;34m=\u001b[0m \u001b[0mvars\u001b[0m\u001b[0;34m(\u001b[0m\u001b[0mstate_dict\u001b[0m\u001b[0;34m[\u001b[0m\u001b[0;34m\"wss_vals\"\u001b[0m\u001b[0;34m]\u001b[0m\u001b[0;34m)\u001b[0m\u001b[0;34m\u001b[0m\u001b[0;34m\u001b[0m\u001b[0m\n",
      "\u001b[0;31mTypeError\u001b[0m: vars() argument must have __dict__ attribute"
     ]
    }
   ],
   "source": [
    "state_dict[\"settings\"] = vars(state_dict[\"settings\"])\n",
    "\n",
    "state_dict[\"rff\"] = vars(state_dict[\"wss_vals\"])\n"
   ]
  },
  {
   "cell_type": "code",
   "execution_count": 5,
   "metadata": {},
   "outputs": [
    {
     "data": {
      "text/plain": [
       "{'settings': {'mode': 'simulate',\n",
       "  'model': 'nb',\n",
       "  'query_strategy': 'max',\n",
       "  'balance_strategy': 'double',\n",
       "  'feature_extraction': 'tfidf',\n",
       "  'n_instances': 20,\n",
       "  'n_queries': None,\n",
       "  'n_papers': None,\n",
       "  'n_prior_included': None,\n",
       "  'n_prior_excluded': None,\n",
       "  'abstract_only': False,\n",
       "  'as_data': None,\n",
       "  'model_param': {'alpha': 0.5391018344527602},\n",
       "  'query_param': {'random_tie_break': False},\n",
       "  'balance_param': {'a': 43.24276248303218,\n",
       "   'alpha': 1.8908258308135557,\n",
       "   'b': 0.11415831941713492,\n",
       "   'beta': 1.0},\n",
       "  'feature_param': {'ngram_max': 2, 'split_ta': 1},\n",
       "  'data_name': 'ace'},\n",
       " 'wss': {},\n",
       " 'rrf': {},\n",
       " 'general': {'n_queries': [113,\n",
       "   113,\n",
       "   113,\n",
       "   113,\n",
       "   113,\n",
       "   113,\n",
       "   113,\n",
       "   113,\n",
       "   113,\n",
       "   113,\n",
       "   113,\n",
       "   113,\n",
       "   113,\n",
       "   113,\n",
       "   113,\n",
       "   113,\n",
       "   113,\n",
       "   113,\n",
       "   113,\n",
       "   113,\n",
       "   113,\n",
       "   113,\n",
       "   113],\n",
       "  'n_states': 23,\n",
       "  'n_papers': 2235,\n",
       "  'n_included': 41,\n",
       "  'n_excluded': 2194}}"
      ]
     },
     "execution_count": 5,
     "metadata": {},
     "output_type": "execute_result"
    }
   ],
   "source": [
    "state_dict"
   ]
  },
  {
   "cell_type": "code",
   "execution_count": null,
   "metadata": {},
   "outputs": [],
   "source": [
    "# print types in \"general\"\n",
    "for key, value in state_dict[\"general\"].items():\n",
    "    print(key, type(value))\n",
    "    \n"
   ]
  },
  {
   "cell_type": "code",
   "execution_count": null,
   "metadata": {},
   "outputs": [],
   "source": [
    "# define function to convert numpy int64 to integers\n",
    "def convert_int64(mydict): \n",
    "    for key, value in mydict.items():\n",
    "        if isinstance(value, np.int64):\n",
    "            #print(key, value)\n",
    "            mydict[key] = int(value)\n",
    "        elif isinstance(value, dict):\n",
    "            convert_int64(value)"
   ]
  },
  {
   "cell_type": "code",
   "execution_count": null,
   "metadata": {},
   "outputs": [],
   "source": [
    "convert_int64(state_dict)"
   ]
  },
  {
   "cell_type": "code",
   "execution_count": null,
   "metadata": {},
   "outputs": [],
   "source": []
  },
  {
   "cell_type": "code",
   "execution_count": null,
   "metadata": {},
   "outputs": [],
   "source": [
    "with open(\"testoutput.json\", \"w\") as f:\n",
    "    json.dump(state_dict, f)"
   ]
  },
  {
   "cell_type": "code",
   "execution_count": null,
   "metadata": {},
   "outputs": [],
   "source": []
  }
 ],
 "metadata": {
  "kernelspec": {
   "display_name": "Python 3",
   "language": "python",
   "name": "python3"
  },
  "language_info": {
   "codemirror_mode": {
    "name": "ipython",
    "version": 3
   },
   "file_extension": ".py",
   "mimetype": "text/x-python",
   "name": "python",
   "nbconvert_exporter": "python",
   "pygments_lexer": "ipython3",
   "version": "3.7.4"
  }
 },
 "nbformat": 4,
 "nbformat_minor": 2
}
